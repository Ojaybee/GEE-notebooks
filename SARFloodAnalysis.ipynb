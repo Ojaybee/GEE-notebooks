{
 "cells": [
  {
   "cell_type": "markdown",
   "metadata": {},
   "source": [
    "Adapted from the tutorial on UN Spider site  \n",
    "The original UN tutorial contains more detail and analysis  \n",
    "https://un-spider.org/advisory-support/recommended-practices/recommended-practice-google-earth-engine-flood-mapping/step-by-step  \n",
    "Converted to Python using geemap  \n",
    "Author of this notebook: oliverburdekin@burdgis.com"
   ]
  },
  {
   "cell_type": "code",
   "execution_count": 72,
   "metadata": {},
   "outputs": [],
   "source": [
    "import os\n",
    "import ee\n",
    "import geemap\n",
    "\n",
    "Map = geemap.Map()\n",
    "ee.Initialize()"
   ]
  },
  {
   "cell_type": "code",
   "execution_count": 97,
   "metadata": {},
   "outputs": [],
   "source": [
    "# Define AOI geom\n",
    "\n",
    "# # Beira, Mozambique\n",
    "# geometry = ee.Geometry.Polygon([\n",
    "#     [\n",
    "#         [35.53377589953368, -19.6674648789114],\n",
    "#         [34.50106105578368, -18.952058786515526],\n",
    "#         [33.63314113390868, -19.87423907259203],\n",
    "#         [34.74825343859618, -20.61123742951084]\n",
    "#     ]\n",
    "# ])\n",
    "\n",
    "# Fish Lake, Doncaster\n",
    "geometry = ee.Geometry.Polygon([\n",
    "    \n",
    "    [\n",
    "        [-1.317268, 53.790878],\n",
    "        [-0.906274, 53.790878],\n",
    "        [-0.906274, 53.452582],\n",
    "        [-1.317268, 53.452582]\n",
    "    ]\n",
    "])\n"
   ]
  },
  {
   "cell_type": "code",
   "execution_count": 106,
   "metadata": {},
   "outputs": [],
   "source": [
    "# Define dates (before and after flooding)\n",
    "before_start= '2019-10-30'\n",
    "before_end='2019-11-09'\n",
    "\n",
    "after_start='2019-11-13'\n",
    "after_end='2019-11-15'\n",
    "\n",
    "# # Beira dates\n",
    "# before_start = '2019-03-01'\n",
    "# before_end='2019-03-10'\n",
    "\n",
    "# # Now set the same parameters for AFTER the flood.\n",
    "# after_start='2019-03-10'\n",
    "# after_end='2019-03-23'"
   ]
  },
  {
   "cell_type": "code",
   "execution_count": 99,
   "metadata": {},
   "outputs": [],
   "source": [
    "#*******************************************************************************************\n",
    "# SET SAR PARAMETERS (can be left default)#\n",
    "\n",
    "polarization = \"VH\" #or 'VV' --> VH mostly is the prefered polarization for flood mapping.\n",
    "                           # However, it always depends on your study area, you can select 'VV'\n",
    "                           # as well.#\n",
    "pass_direction = \"DESCENDING\" # or 'ASCENDING'when images are being compared use only one\n",
    "                           # pass direction. Consider changing this parameter, if your image\n",
    "                           # collection is empty. In some areas more Ascending images exist than\n",
    "                           # than descending or the other way around.#\n",
    "difference_threshold = 1.25 #threshodl to be applied on the difference image (after flood\n",
    "#                            - before flood). It has been chosen by trial and error. In case your\n",
    "#                            flood extent result shows many False-positive or negative signals,\n",
    "#                            consider changing it! #\n",
    "#relative_orbit = 79\n",
    "                          # #if you know the relative orbit for your study area, you can filter\n",
    "                          #  you image collection by it here, to avoid errors caused by comparing\n",
    "                          #  different relative orbits.#"
   ]
  },
  {
   "cell_type": "code",
   "execution_count": 100,
   "metadata": {},
   "outputs": [],
   "source": [
    "# rename selected geometry feature\n",
    "aoi = ee.FeatureCollection(geometry)\n",
    "\n",
    "# Load and filter Sentinel-1 GRD data by predefined parameters\n",
    "collection= ee.ImageCollection('COPERNICUS/S1_GRD') \\\n",
    "  .filter(ee.Filter.eq('instrumentMode','IW')) \\\n",
    "  .filter(ee.Filter.listContains('transmitterReceiverPolarisation', polarization)) \\\n",
    "  .filter(ee.Filter.eq('orbitProperties_pass',pass_direction)) \\\n",
    "  .filter(ee.Filter.eq('resolution_meters',10)) \\\n",
    "  .filterBounds(aoi) \\\n",
    "  .select(polarization)\n",
    "\n",
    "# Select images by predefined dates\n",
    "before_collection = collection.filterDate(before_start, before_end)\n",
    "after_collection = collection.filterDate(after_start,after_end)"
   ]
  },
  {
   "cell_type": "code",
   "execution_count": 101,
   "metadata": {},
   "outputs": [],
   "source": [
    "def dates(imgcol):\n",
    "    range = imgcol.reduceColumns(ee.Reducer.minMax(), [\"system:time_start\"])\n",
    "    printed = ee.String('from ') \\\n",
    "          .cat(ee.Date(range.get('min')).format('YYYY-MM-dd')) \\\n",
    "          .cat(' to ') \\\n",
    "          .cat(ee.Date(range.get('max')).format('YYYY-MM-dd'))\n",
    "    return printed"
   ]
  },
  {
   "cell_type": "code",
   "execution_count": 102,
   "metadata": {},
   "outputs": [],
   "source": [
    "# Create a mosaic of selected tiles and clip to study area\n",
    "before = before_collection.mosaic().clip(aoi)\n",
    "after = after_collection.mosaic().clip(aoi)\n",
    "\n",
    "# Apply reduce the radar speckle by smoothing\n",
    "smoothing_radius = 50\n",
    "before_filtered = before.focal_mean(smoothing_radius, 'circle', 'meters')\n",
    "after_filtered = after.focal_mean(smoothing_radius, 'circle', 'meters')\n"
   ]
  },
  {
   "cell_type": "code",
   "execution_count": 103,
   "metadata": {},
   "outputs": [],
   "source": [
    "# Calculate the difference between before and after images\n",
    "difference = after_filtered.divide(before_filtered)\n",
    "\n",
    "# Apply the predefined difference-threshold and create the flood extent mask\n",
    "threshold = difference_threshold\n",
    "difference_binary = difference.gt(threshold)"
   ]
  },
  {
   "cell_type": "code",
   "execution_count": 104,
   "metadata": {},
   "outputs": [],
   "source": [
    "# Refine flood result with additional datasets\n",
    "\n",
    "# JRC layer on surface water seasonality\n",
    "swater = ee.Image('JRC/GSW1_0/GlobalSurfaceWater').select('seasonality')\n",
    "swater_mask = swater.gte(10).updateMask(swater.gte(10))\n",
    "\n",
    "#Flooded layer where perennial water bodies (water > 10 mo/yr) is assigned a 0 value\n",
    "flooded_mask = difference_binary.where(swater_mask,0)\n",
    "# final flooded area without pixels in perennial waterbodies\n",
    "flooded = flooded_mask.updateMask(flooded_mask)\n",
    "\n",
    "# Compute connectivity of pixels to eliminate those connected to 8 or fewer neighbours\n",
    "# This operation reduces noise of the flood extent product\n",
    "connections = flooded.connectedPixelCount()\n",
    "flooded2 = flooded.updateMask(connections.gte(8))"
   ]
  },
  {
   "cell_type": "code",
   "execution_count": 107,
   "metadata": {},
   "outputs": [
    {
     "data": {
      "application/vnd.jupyter.widget-view+json": {
       "model_id": "bed92fdd5ebb44e19c6de60d9b8d58fc",
       "version_major": 2,
       "version_minor": 0
      },
      "text/plain": [
       "Map(bottom=2520.0, center=[53.611961, -1.012291], controls=(WidgetControl(options=['position'], widget=HBox(ch…"
      ]
     },
     "metadata": {},
     "output_type": "display_data"
    }
   ],
   "source": [
    "Map.setCenter(-1.012291,53.611961,12)\n",
    "\n",
    "# Before and after layers\n",
    "Map.addLayer(before_filtered, {'min':-25, 'max':0}, 'Before Flood',0)\n",
    "Map.addLayer(after_filtered, {'min':-25, 'max':0}, 'After Flood',1)\n",
    "\n",
    "# Difference layer\n",
    "Map.addLayer(difference,{'min':0, 'max':2},\"Difference Layer\",0)\n",
    "\n",
    "# Flooded areas\n",
    "Map.addLayer(flooded,{'palette':\"0000FF\"},'Flooded areas')\n",
    "Map.addLayer(flooded2,{'palette':\"0000FF\"},'Flooded areas 2')\n",
    "\n",
    "Map"
   ]
  }
 ],
 "metadata": {
  "hide_input": false,
  "kernelspec": {
   "display_name": "GeeMap_prod",
   "language": "python",
   "name": "geemap_prod"
  },
  "language_info": {
   "codemirror_mode": {
    "name": "ipython",
    "version": 3
   },
   "file_extension": ".py",
   "mimetype": "text/x-python",
   "name": "python",
   "nbconvert_exporter": "python",
   "pygments_lexer": "ipython3",
   "version": "3.7.9"
  }
 },
 "nbformat": 4,
 "nbformat_minor": 4
}
